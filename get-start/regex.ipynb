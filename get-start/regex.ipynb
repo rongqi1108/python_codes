{
 "cells": [
  {
   "cell_type": "markdown",
   "metadata": {},
   "source": [
    "### 正则表达式学习"
   ]
  },
  {
   "attachments": {},
   "cell_type": "markdown",
   "metadata": {},
   "source": [
    "#### 限定符"
   ]
  },
  {
   "cell_type": "code",
   "execution_count": 19,
   "metadata": {},
   "outputs": [
    {
     "name": "stdout",
     "output_type": "stream",
     "text": [
      "正则为: dd(a1)\n",
      "use a used variable name is illegal. 提取: \n",
      "bda1 提取: "
     ]
    }
   ],
   "source": [
    "# 数据方法准备\n",
    "import numpy as np\n",
    "import pandas as pd\n",
    "s = pd.Series(['use a used variable name is illegal.', 'bda1'])\n",
    "g = '(a1)'#()表示抽取的部分\n",
    "\n",
    "# s:原字符 g:正则 r:提取结果\n",
    "def print_result(s = s, g = g):\n",
    "    r = s.str.extract(g)\n",
    "    print('正则为:', g)\n",
    "    i = 0\n",
    "    for str in s:\n",
    "        num = r.iloc[i, :].count()\n",
    "        if i !=0 : print()\n",
    "        print(str, '提取:', end= ' ')\n",
    "        for j in range(num):\n",
    "            print(r.iloc[i, :][j])\n",
    "        i += 1\n",
    "print_result()"
   ]
  },
  {
   "cell_type": "code",
   "execution_count": 21,
   "metadata": {},
   "outputs": [],
   "source": [
    "# ? 表示前面的一个字符会出现0次或1次"
   ]
  }
 ],
 "metadata": {
  "kernelspec": {
   "display_name": "pytorch-gpu",
   "language": "python",
   "name": "pytorch-gpu"
  },
  "language_info": {
   "codemirror_mode": {
    "name": "ipython",
    "version": 3
   },
   "file_extension": ".py",
   "mimetype": "text/x-python",
   "name": "python",
   "nbconvert_exporter": "python",
   "pygments_lexer": "ipython3",
   "version": "3.9.16"
  },
  "orig_nbformat": 4
 },
 "nbformat": 4,
 "nbformat_minor": 2
}
