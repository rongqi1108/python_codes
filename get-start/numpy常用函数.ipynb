{
 "cells": [
  {
   "attachments": {},
   "cell_type": "markdown",
   "metadata": {},
   "source": [
    "### 创建数组"
   ]
  },
  {
   "cell_type": "code",
   "execution_count": 38,
   "metadata": {},
   "outputs": [],
   "source": [
    "import numpy as np\n",
    "import pandas as pd"
   ]
  },
  {
   "attachments": {},
   "cell_type": "markdown",
   "metadata": {},
   "source": [
    "#### 1.array"
   ]
  },
  {
   "cell_type": "code",
   "execution_count": 39,
   "metadata": {},
   "outputs": [
    {
     "data": {
      "text/plain": [
       "array([1, 2, 3, '4'], dtype=object)"
      ]
     },
     "execution_count": 39,
     "metadata": {},
     "output_type": "execute_result"
    }
   ],
   "source": [
    "# numpy.array(object, dtype=None, *, copy=True, order='K', subok=False, ndmin=0, like=None)\n",
    "np.array([1, 2, 3, 4, 5])#numpy数组\n",
    "np.array(pd.Series([1, 2, 3, '4']))#pandas的Series转为numpy的数组"
   ]
  },
  {
   "attachments": {},
   "cell_type": "markdown",
   "metadata": {},
   "source": [
    "#### 2.linspace"
   ]
  },
  {
   "cell_type": "code",
   "execution_count": null,
   "metadata": {},
   "outputs": [],
   "source": [
    "# numpy.linspace(start, stop, num=50, endpoint=True, retstep=False, dtype=None, axis=0)[source]\n",
    "np.linspace(10, 100, 4, dtype = int)#指定左闭右闭取4个等差数列numpy数组"
   ]
  },
  {
   "attachments": {},
   "cell_type": "markdown",
   "metadata": {},
   "source": [
    "#### 3.arange"
   ]
  },
  {
   "cell_type": "code",
   "execution_count": null,
   "metadata": {},
   "outputs": [],
   "source": [
    "# numpy.arange([start, ]stop, [step, ]dtype=None, *, like=None)\n",
    "np.arange(5)#从0开始的5个自然数的numpy数组\n",
    "np.arange(1, 5)#从1开始左闭右开的自然数的numpy数组\n",
    "np.arange(0, 10, 2)#左闭右开步长为2的数组"
   ]
  },
  {
   "attachments": {},
   "cell_type": "markdown",
   "metadata": {},
   "source": [
    "#### 4.uniform"
   ]
  },
  {
   "cell_type": "code",
   "execution_count": null,
   "metadata": {},
   "outputs": [],
   "source": [
    "# numpy.random.uniform(low=0.0, high=1.0, size=None) 在上下限之间的均匀分布中生成随机样本\n",
    "np.random.uniform(size = 5)\n",
    "np.random.uniform()#0-1随机生成一个数\n",
    "np.random.uniform(1, 5)\n",
    "np.random.uniform(3, 4, size = (2, 3))"
   ]
  },
  {
   "attachments": {},
   "cell_type": "markdown",
   "metadata": {},
   "source": [
    "#### 5.random.randint"
   ]
  },
  {
   "cell_type": "code",
   "execution_count": 44,
   "metadata": {},
   "outputs": [
    {
     "data": {
      "text/plain": [
       "array([83,  3, 26, 76, 42])"
      ]
     },
     "execution_count": 44,
     "metadata": {},
     "output_type": "execute_result"
    }
   ],
   "source": [
    "# numpy.random.randint(low, high=None, size=None, dtype=int)\n",
    "np.random.randint(1, 100, 5)#在一个范围内生成n个随机整数样本。"
   ]
  },
  {
   "attachments": {},
   "cell_type": "markdown",
   "metadata": {},
   "source": [
    "#### 6.random.random"
   ]
  },
  {
   "cell_type": "code",
   "execution_count": 49,
   "metadata": {},
   "outputs": [
    {
     "data": {
      "text/plain": [
       "array([[0.71464835, 0.09462795, 0.57473184],\n",
       "       [0.69464005, 0.78543202, 0.19550321]])"
      ]
     },
     "execution_count": 49,
     "metadata": {},
     "output_type": "execute_result"
    }
   ],
   "source": [
    "# numpy.random.random(size=None)\n",
    "np.random.random()#0-1之间的随机数\n",
    "np.random.random(size =(2,3))"
   ]
  },
  {
   "attachments": {},
   "cell_type": "markdown",
   "metadata": {},
   "source": [
    "#### 7.logspace"
   ]
  },
  {
   "cell_type": "code",
   "execution_count": 62,
   "metadata": {},
   "outputs": [
    {
     "data": {
      "text/plain": [
       "array([   2,   45, 1024])"
      ]
     },
     "execution_count": 62,
     "metadata": {},
     "output_type": "execute_result"
    }
   ],
   "source": [
    "# numpy.logspace(start, stop, num=50, endpoint=True, base=10.0, dtype=None, axis=0)\n",
    "# 在对数尺度上生成间隔均匀的数字 在 10^a 和 10^b（10 的 N 次幂）之间的 50 个对数间距点组成的行向量 y\n",
    "np.logspace(1, 10, 3, base = 2, dtype = int)"
   ]
  },
  {
   "attachments": {},
   "cell_type": "markdown",
   "metadata": {},
   "source": [
    "#### 8.zeros"
   ]
  },
  {
   "cell_type": "code",
   "execution_count": 65,
   "metadata": {},
   "outputs": [
    {
     "data": {
      "text/plain": [
       "array([[0, 0, 0],\n",
       "       [0, 0, 0]])"
      ]
     },
     "execution_count": 65,
     "metadata": {},
     "output_type": "execute_result"
    }
   ],
   "source": [
    "# numpy.zeros(shape, dtype=float, order='C', *, like=None)\n",
    "np.zeros((2,3), dtype = int)"
   ]
  },
  {
   "attachments": {},
   "cell_type": "markdown",
   "metadata": {},
   "source": [
    "#### 9.ones"
   ]
  },
  {
   "cell_type": "code",
   "execution_count": 67,
   "metadata": {},
   "outputs": [
    {
     "data": {
      "text/plain": [
       "array([[1, 1, 1],\n",
       "       [1, 1, 1],\n",
       "       [1, 1, 1]])"
      ]
     },
     "execution_count": 67,
     "metadata": {},
     "output_type": "execute_result"
    }
   ],
   "source": [
    "# numpy.ones(shape, dtype=None, order='C', *, like=None)\n",
    "np.ones((3, 3), dtype = int)"
   ]
  },
  {
   "attachments": {},
   "cell_type": "markdown",
   "metadata": {},
   "source": [
    "#### 10.full"
   ]
  },
  {
   "cell_type": "code",
   "execution_count": 68,
   "metadata": {},
   "outputs": [
    {
     "data": {
      "text/plain": [
       "array([[5, 5, 5, 5],\n",
       "       [5, 5, 5, 5],\n",
       "       [5, 5, 5, 5]])"
      ]
     },
     "execution_count": 68,
     "metadata": {},
     "output_type": "execute_result"
    }
   ],
   "source": [
    "# numpy.full(shape, fill_value, dtype=None, order='C', *, like=None)\n",
    "np.full((3, 4), 5)"
   ]
  },
  {
   "attachments": {},
   "cell_type": "markdown",
   "metadata": {},
   "source": [
    "#### 11.identity"
   ]
  },
  {
   "cell_type": "code",
   "execution_count": 69,
   "metadata": {},
   "outputs": [
    {
     "data": {
      "text/plain": [
       "array([[1., 0., 0.],\n",
       "       [0., 1., 0.],\n",
       "       [0., 0., 1.]])"
      ]
     },
     "execution_count": 69,
     "metadata": {},
     "output_type": "execute_result"
    }
   ],
   "source": [
    "# numpy.identity(n, dtype=None, *, like=None)\n",
    "# 创建具有指定维度的单位矩阵。\n",
    "np.identity(3)"
   ]
  },
  {
   "attachments": {},
   "cell_type": "markdown",
   "metadata": {},
   "source": [
    "### 数组操作"
   ]
  },
  {
   "attachments": {},
   "cell_type": "markdown",
   "metadata": {},
   "source": [
    "#### 12.min\n"
   ]
  },
  {
   "cell_type": "code",
   "execution_count": 74,
   "metadata": {},
   "outputs": [
    {
     "data": {
      "text/plain": [
       "2"
      ]
     },
     "execution_count": 74,
     "metadata": {},
     "output_type": "execute_result"
    }
   ],
   "source": [
    "# np.min(a, axis=None, out=None, keepdims=<no value>, initial=<no value>, where=<no value>)\n",
    "np.min([2, 3, 4, 5])\n",
    "np.min((2, 3, 4))"
   ]
  },
  {
   "cell_type": "markdown",
   "metadata": {},
   "source": [
    "#### 13.max"
   ]
  },
  {
   "cell_type": "code",
   "execution_count": 75,
   "metadata": {},
   "outputs": [
    {
     "data": {
      "text/plain": [
       "4"
      ]
     },
     "execution_count": 75,
     "metadata": {},
     "output_type": "execute_result"
    }
   ],
   "source": [
    "# np.max(a, axis=None,out=None)\n",
    "np.max([2, 3, 4])"
   ]
  },
  {
   "cell_type": "markdown",
   "metadata": {},
   "source": [
    "\n",
    "#### 14.unique\n"
   ]
  },
  {
   "cell_type": "code",
   "execution_count": 79,
   "metadata": {},
   "outputs": [
    {
     "data": {
      "text/plain": [
       "array([ 1,  2,  3,  4,  5,  6,  7, 66, 88, 99])"
      ]
     },
     "execution_count": 79,
     "metadata": {},
     "output_type": "execute_result"
    }
   ],
   "source": [
    "# numpy.unique(ar, return_index=False, return_inverse=False, return_counts=False, axis=None, *, equal_nan=True)\n",
    "# 返回一个所有唯一元素排序的数组。\n",
    "np.unique([1, 2, 2, 3, 4, 99, 88, 7, 7, 6, 66, 6, 5])#去重升序"
   ]
  },
  {
   "cell_type": "markdown",
   "metadata": {},
   "source": [
    "#### 15.mean"
   ]
  },
  {
   "cell_type": "code",
   "execution_count": 80,
   "metadata": {},
   "outputs": [
    {
     "data": {
      "text/plain": [
       "3.0"
      ]
     },
     "execution_count": 80,
     "metadata": {},
     "output_type": "execute_result"
    }
   ],
   "source": [
    "# numpy.mean(a, axis=None, dtype=None, out=None)\n",
    "np.mean([1, 2, 3, 4, 5])"
   ]
  },
  {
   "attachments": {},
   "cell_type": "markdown",
   "metadata": {},
   "source": [
    "#### 16.median"
   ]
  },
  {
   "cell_type": "code",
   "execution_count": 85,
   "metadata": {},
   "outputs": [
    {
     "data": {
      "text/plain": [
       "4.5"
      ]
     },
     "execution_count": 85,
     "metadata": {},
     "output_type": "execute_result"
    }
   ],
   "source": [
    "# numpy.median(a, axis=None, out=None) 中位数\n",
    "np.median([1, 2, 3, 6, 6, 9])"
   ]
  },
  {
   "cell_type": "markdown",
   "metadata": {},
   "source": [
    "#### 17.digitize\n"
   ]
  },
  {
   "cell_type": "code",
   "execution_count": 100,
   "metadata": {},
   "outputs": [
    {
     "data": {
      "text/plain": [
       "array([2, 0], dtype=int64)"
      ]
     },
     "execution_count": 100,
     "metadata": {},
     "output_type": "execute_result"
    }
   ],
   "source": [
    "# numpy.digitize(x, bins, right=False)[source] right:表示该间隔是否包括右边或左边的bin。\n",
    "# 返回输入数组中每个值所属的容器的索引\n",
    "# 前一个数组的值在后一个数组值最先匹配到的位置\n",
    "np.digitize([1, 2], [2, 2, 1])"
   ]
  },
  {
   "cell_type": "markdown",
   "metadata": {},
   "source": [
    "\n",
    "#### 18.reshape\n"
   ]
  },
  {
   "cell_type": "code",
   "execution_count": 109,
   "metadata": {},
   "outputs": [
    {
     "data": {
      "text/plain": [
       "array([[1, 2],\n",
       "       [3, 4],\n",
       "       [5, 6]])"
      ]
     },
     "execution_count": 109,
     "metadata": {},
     "output_type": "execute_result"
    }
   ],
   "source": [
    "# numpy.reshape(shap)\n",
    "np.array([[1, 2, 3], [4, 5, 6]]).reshape((1, 6))\n",
    "np.array([[1, 2, 3], [4, 5, 6]]).reshape((1, -1))\n",
    "np.array([[1, 2, 3], [4, 5, 6]]).reshape((3, 2))"
   ]
  },
  {
   "cell_type": "markdown",
   "metadata": {},
   "source": [
    "\n",
    "#### 19.expand_dims\n"
   ]
  },
  {
   "cell_type": "code",
   "execution_count": 122,
   "metadata": {},
   "outputs": [
    {
     "data": {
      "text/plain": [
       "array([[[1, 2],\n",
       "        [3, 4]]])"
      ]
     },
     "execution_count": 122,
     "metadata": {},
     "output_type": "execute_result"
    }
   ],
   "source": [
    "# numpy.expand_dims(a, axis) 升维\n",
    "np.expand_dims([1, 2, 3], 0)# 横向升维 最外面添一个括号\n",
    "np.expand_dims([1, 2, 3], 1)# 纵向升维 纵向分别添加括号\n",
    "np.expand_dims([[1,2],[3,4]], 0)\n",
    "np.expand_dims([[1,2],[3,4]], 1)"
   ]
  },
  {
   "cell_type": "markdown",
   "metadata": {},
   "source": [
    "#### 20.squeeze"
   ]
  },
  {
   "cell_type": "code",
   "execution_count": 125,
   "metadata": {},
   "outputs": [
    {
     "data": {
      "text/plain": [
       "array([2, 3])"
      ]
     },
     "execution_count": 125,
     "metadata": {},
     "output_type": "execute_result"
    }
   ],
   "source": [
    "# np.squeeze(a, axis=None) 降维 只能降一维的，降多维会丢失数据\n",
    "np.squeeze([[2, 3]], 0)\n",
    "np.squeeze([[2], [3]], 1)\n"
   ]
  },
  {
   "cell_type": "markdown",
   "metadata": {},
   "source": [
    "#### 21.count_nonzero\n"
   ]
  },
  {
   "cell_type": "code",
   "execution_count": 131,
   "metadata": {},
   "outputs": [
    {
     "name": "stdout",
     "output_type": "stream",
     "text": [
      "3\n"
     ]
    },
    {
     "data": {
      "text/plain": [
       "array([3, 2], dtype=int64)"
      ]
     },
     "execution_count": 131,
     "metadata": {},
     "output_type": "execute_result"
    }
   ],
   "source": [
    "# numpy.count_nonzero(a, axis=None, *, keepdims=False)\n",
    "print(np.count_nonzero([0, 0, 1, 2, 0, 3]))\n",
    "np.count_nonzero([[1, 2], \\\n",
    "                  [3, 4],\\\n",
    "                  [1, 0]], 0)#array([3, 2], dtype=int64) 第一列有3个不为0 第二列有2个不为0"
   ]
  },
  {
   "cell_type": "markdown",
   "metadata": {},
   "source": [
    "\n",
    "#### 22.argwhere\n"
   ]
  },
  {
   "cell_type": "code",
   "execution_count": 132,
   "metadata": {},
   "outputs": [
    {
     "data": {
      "text/plain": [
       "array([[1],\n",
       "       [2],\n",
       "       [3]], dtype=int64)"
      ]
     },
     "execution_count": 132,
     "metadata": {},
     "output_type": "execute_result"
    }
   ],
   "source": [
    "# numpy.argwhere(a) 查找并返回非零元素的所有下标\n",
    "np.argwhere([0, 1, 2, 3, 0, 0])\n"
   ]
  },
  {
   "cell_type": "markdown",
   "metadata": {},
   "source": [
    "\n",
    "#### 23.argmax&argmin\n"
   ]
  },
  {
   "cell_type": "code",
   "execution_count": 136,
   "metadata": {},
   "outputs": [
    {
     "name": "stdout",
     "output_type": "stream",
     "text": [
      "1\n",
      "3\n"
     ]
    }
   ],
   "source": [
    "# numpy.argmax(a, axis=None, out=None, *, keepdims=<no value>)\n",
    "print(np.argmin([0, -1, 1, 7]))\n",
    "print(np.argmax([0, -1, 1, 7]))"
   ]
  },
  {
   "cell_type": "markdown",
   "metadata": {},
   "source": [
    "\n",
    "#### 24.sot\n"
   ]
  },
  {
   "cell_type": "code",
   "execution_count": 145,
   "metadata": {},
   "outputs": [
    {
     "name": "stdout",
     "output_type": "stream",
     "text": [
      "[9 8 7 5 6 4 2 3 1]\n",
      "[1 2 3 4 5 6 7 8 9]\n"
     ]
    }
   ],
   "source": [
    "# numpy.sort(a, axis=- 1, kind=None, order=None)\n",
    "# kind:要使用的排序算法。{‘quicksort’, ‘mergesort’, ‘heapsort’, ‘stable’}\n",
    "arr = np.array([9, 8, 7, 5, 6, 4, 2, 3, 1])\n",
    "new_arr = np.sort(arr)\n",
    "print(arr)\n",
    "print(new_arr)"
   ]
  },
  {
   "cell_type": "markdown",
   "metadata": {},
   "source": [
    "\n",
    "#### 25.abs\n"
   ]
  },
  {
   "cell_type": "code",
   "execution_count": 146,
   "metadata": {},
   "outputs": [
    {
     "data": {
      "text/plain": [
       "array([1, 2, 3])"
      ]
     },
     "execution_count": 146,
     "metadata": {},
     "output_type": "execute_result"
    }
   ],
   "source": [
    "'''\n",
    "numpy.absolute(x, /, out=None, *, where=True, casting='same_kind', \n",
    "               order='K', dtype=None, \n",
    "               subok=True[, signature, extobj]) = <ufunc 'absolute'>\n",
    "'''\n",
    "np.absolute(np.array([-1, -2, -3]))\n"
   ]
  },
  {
   "cell_type": "markdown",
   "metadata": {},
   "source": [
    "\n",
    "#### 26.round\n"
   ]
  },
  {
   "cell_type": "code",
   "execution_count": 148,
   "metadata": {},
   "outputs": [
    {
     "data": {
      "text/plain": [
       "array([[ 0.8,  0.4,  0.7],\n",
       "       [ 0.9,  0.4, -0.6]])"
      ]
     },
     "execution_count": 148,
     "metadata": {},
     "output_type": "execute_result"
    }
   ],
   "source": [
    "# numpy.around(a, decimals=0, out=None) decimals:要保留的小数点的个数。\n",
    "np.around([[0.83, 0.43, 0.67],[0.88, 0.45, -0.62]], 1)"
   ]
  },
  {
   "attachments": {},
   "cell_type": "markdown",
   "metadata": {},
   "source": [
    "\n",
    "#### 27.clip\n"
   ]
  },
  {
   "cell_type": "code",
   "execution_count": 152,
   "metadata": {},
   "outputs": [
    {
     "data": {
      "text/plain": [
       "array([1, 2, 0, 0, 4, 4])"
      ]
     },
     "execution_count": 152,
     "metadata": {},
     "output_type": "execute_result"
    }
   ],
   "source": [
    "# numpy.clip(a, a_min, a_max, out=None, **kwargs)\n",
    "# 可以将数组的裁剪值保持在一个范围内。\n",
    "np.clip(np.array([1, 2, 3, 4, 5]), 2, 3)\n",
    "\n",
    "arr = np.array([1, 2, -1, -3, 5, 4])\n",
    "arr.clip(0, 4)"
   ]
  },
  {
   "cell_type": "markdown",
   "metadata": {},
   "source": [
    "### 替换数组中的值"
   ]
  },
  {
   "cell_type": "markdown",
   "metadata": {},
   "source": [
    "#### 28.where\n"
   ]
  },
  {
   "cell_type": "code",
   "execution_count": 158,
   "metadata": {},
   "outputs": [
    {
     "ename": "NameError",
     "evalue": "name 'null' is not defined",
     "output_type": "error",
     "traceback": [
      "\u001b[1;31m---------------------------------------------------------------------------\u001b[0m",
      "\u001b[1;31mNameError\u001b[0m                                 Traceback (most recent call last)",
      "Cell \u001b[1;32mIn[158], line 7\u001b[0m\n\u001b[0;32m      5\u001b[0m arr2 \u001b[39m=\u001b[39m np\u001b[39m.\u001b[39marray([\u001b[39m1\u001b[39m, \u001b[39m2\u001b[39m, \u001b[39m3\u001b[39m, \u001b[39m4\u001b[39m, \u001b[39m5\u001b[39m, \u001b[39m6\u001b[39m])\n\u001b[0;32m      6\u001b[0m arr2[np\u001b[39m.\u001b[39mwhere(arr2 \u001b[39m>\u001b[39m \u001b[39m3\u001b[39m)]\n\u001b[1;32m----> 7\u001b[0m data[feature] \u001b[39m=\u001b[39m pd\u001b[39m.\u001b[39mSeries([\u001b[39m1\u001b[39m, \u001b[39m2\u001b[39m,null])\n\u001b[0;32m      8\u001b[0m np\u001b[39m.\u001b[39mwhere(data[feature]\u001b[39m.\u001b[39misnull(), \u001b[39m1\u001b[39m, \u001b[39m0\u001b[39m)\n",
      "\u001b[1;31mNameError\u001b[0m: name 'null' is not defined"
     ]
    }
   ],
   "source": [
    "# numpy.where(condition, [x, y, ]/) 返回满足条件的数组元素\n",
    "arr = np.array([[1, 2], [3, 4], [5, 6]])\n",
    "arr[np.where(arr > 3)]\n",
    "\n",
    "arr2 = np.array([1, 2, 3, 4, 5, 6])\n",
    "arr2[np.where(arr2 > 3)]\n",
    "\n",
    "# 还可以用来替换pandas df中的元素\n",
    "np.where(data[feature].isnull(), 1, 0)"
   ]
  },
  {
   "cell_type": "markdown",
   "metadata": {},
   "source": [
    "#### 29.put\n"
   ]
  },
  {
   "cell_type": "code",
   "execution_count": 159,
   "metadata": {},
   "outputs": [
    {
     "data": {
      "text/plain": [
       "array([100,   2,   3,   4,   5])"
      ]
     },
     "execution_count": 159,
     "metadata": {},
     "output_type": "execute_result"
    }
   ],
   "source": [
    "# numpy.put(a, ind, v) Ind:需要替换的索引 V:替换值\n",
    "arr = np.array([1, 2, 3, 4, 5])\n",
    "np.put(arr, 0, 100)\n",
    "arr"
   ]
  },
  {
   "cell_type": "markdown",
   "metadata": {},
   "source": [
    "#### 30.copyto\n"
   ]
  },
  {
   "cell_type": "code",
   "execution_count": 163,
   "metadata": {},
   "outputs": [
    {
     "data": {
      "text/plain": [
       "array([4, 5, 6])"
      ]
     },
     "execution_count": 163,
     "metadata": {},
     "output_type": "execute_result"
    }
   ],
   "source": [
    "# 将一个数组的内容复制到另一个数组中。\n",
    "# numpy.copyto(dst, src, casting='same_kind', where=True)\n",
    "arr = np.array([1, 2, 3])\n",
    "arr2 = np.array([4, 5, 6])\n",
    "np.copyto(arr2, arr)\n",
    "arr2"
   ]
  },
  {
   "cell_type": "markdown",
   "metadata": {},
   "source": [
    "### 集合操作"
   ]
  },
  {
   "cell_type": "markdown",
   "metadata": {},
   "source": [
    "#### 31.查找公共元素\n"
   ]
  },
  {
   "cell_type": "code",
   "execution_count": 168,
   "metadata": {},
   "outputs": [
    {
     "data": {
      "text/plain": [
       "array([0, 2, 3])"
      ]
     },
     "execution_count": 168,
     "metadata": {},
     "output_type": "execute_result"
    }
   ],
   "source": [
    "# numpy.intersect1d(ar1, ar2, assume_unique=False, return_indices=False)\n",
    "# 以排序的方式唯一的返回两个数组中所有公共的值\n",
    "arr1 = np.array([1, 2, 1, 2, 3, 0])\n",
    "arr2 = np.array([2, 3, 0, 0, 0])\n",
    "arr3 = np.intersect1d(arr1, arr2)\n",
    "arr3"
   ]
  },
  {
   "cell_type": "markdown",
   "metadata": {},
   "source": [
    "#### 32.查找不同元素\n"
   ]
  },
  {
   "cell_type": "code",
   "execution_count": 169,
   "metadata": {},
   "outputs": [
    {
     "data": {
      "text/plain": [
       "array([1])"
      ]
     },
     "execution_count": 169,
     "metadata": {},
     "output_type": "execute_result"
    }
   ],
   "source": [
    "# numpy.setdiff1d(ar1, ar2, assume_unique=False)\n",
    "arr4 = np.setdiff1d(arr1, arr2)\n",
    "arr4"
   ]
  },
  {
   "cell_type": "markdown",
   "metadata": {},
   "source": [
    "#### 33.从两个数组中提取唯一元素\n"
   ]
  },
  {
   "cell_type": "code",
   "execution_count": 172,
   "metadata": {},
   "outputs": [
    {
     "data": {
      "text/plain": [
       "array([1, 2, 3, 4, 6])"
      ]
     },
     "execution_count": 172,
     "metadata": {},
     "output_type": "execute_result"
    }
   ],
   "source": [
    "# numpy.setxor1d(ar1, ar2, assume_unique=False) 将按顺序返回两个数组中去共有去重所有唯一的值。\n",
    "arr5 = np.setxor1d([1, 2, 3, 4, 7, 7, 6, 5], [7, 5, 5, 5])\n",
    "arr5"
   ]
  },
  {
   "cell_type": "markdown",
   "metadata": {},
   "source": [
    "#### 34.合并\n"
   ]
  },
  {
   "cell_type": "code",
   "execution_count": 173,
   "metadata": {},
   "outputs": [
    {
     "data": {
      "text/plain": [
       "array([1, 2, 3, 4])"
      ]
     },
     "execution_count": 173,
     "metadata": {},
     "output_type": "execute_result"
    }
   ],
   "source": [
    "# numpy.union1d(ar1, ar2) 去重合并\n",
    "np.union1d([1, 2, 2], [2, 3, 4])"
   ]
  },
  {
   "attachments": {},
   "cell_type": "markdown",
   "metadata": {},
   "source": [
    "### 数组分割"
   ]
  },
  {
   "cell_type": "markdown",
   "metadata": {},
   "source": [
    "#### 35.水平分割\n"
   ]
  },
  {
   "cell_type": "code",
   "execution_count": 184,
   "metadata": {},
   "outputs": [
    {
     "data": {
      "text/plain": [
       "[array([[3],\n",
       "        [1]]),\n",
       " array([[4],\n",
       "        [2]]),\n",
       " array([[5],\n",
       "        [3]])]"
      ]
     },
     "execution_count": 184,
     "metadata": {},
     "output_type": "execute_result"
    }
   ],
   "source": [
    "# numpy.hsplit(ary, indices_or_sections) 竖着切\n",
    "a = np.array([[3, 4, 5], \\\n",
    "              [1, 2, 3]])\n",
    "np.hsplit(a, 3)"
   ]
  },
  {
   "cell_type": "markdown",
   "metadata": {},
   "source": [
    "#### 36.垂直分割\n"
   ]
  },
  {
   "cell_type": "code",
   "execution_count": 185,
   "metadata": {},
   "outputs": [
    {
     "data": {
      "text/plain": [
       "[array([[3, 4, 5]]), array([[1, 2, 3]])]"
      ]
     },
     "execution_count": 185,
     "metadata": {},
     "output_type": "execute_result"
    }
   ],
   "source": [
    "# numpy.vsplit(ary, indices_or_sections) 横着切\n",
    "np.vsplit(a, 2)"
   ]
  },
  {
   "cell_type": "markdown",
   "metadata": {},
   "source": [
    "### 数组叠加"
   ]
  },
  {
   "cell_type": "markdown",
   "metadata": {},
   "source": [
    "#### 37.水平叠加\n"
   ]
  },
  {
   "cell_type": "code",
   "execution_count": 187,
   "metadata": {},
   "outputs": [
    {
     "data": {
      "text/plain": [
       "array([2, 3, 2, 1, 1, 1])"
      ]
     },
     "execution_count": 187,
     "metadata": {},
     "output_type": "execute_result"
    }
   ],
   "source": [
    "# numpy.hstack(tup) 将在另一个数组的末尾追加一个数组。\n",
    "np.hstack(([2, 3, 2], [1, 1, 1]))"
   ]
  },
  {
   "cell_type": "markdown",
   "metadata": {},
   "source": [
    "#### 38.垂直叠加\n"
   ]
  },
  {
   "cell_type": "code",
   "execution_count": 188,
   "metadata": {},
   "outputs": [
    {
     "data": {
      "text/plain": [
       "array([[2, 3, 2],\n",
       "       [1, 1, 1]])"
      ]
     },
     "execution_count": 188,
     "metadata": {},
     "output_type": "execute_result"
    }
   ],
   "source": [
    "# numpy.vstack(tup)\n",
    "np.vstack(([2, 3, 2], [1, 1, 1]))"
   ]
  },
  {
   "cell_type": "markdown",
   "metadata": {},
   "source": [
    "### 数组比较\n"
   ]
  },
  {
   "cell_type": "markdown",
   "metadata": {},
   "source": [
    "#### 39.allclose\n"
   ]
  },
  {
   "cell_type": "code",
   "execution_count": 193,
   "metadata": {},
   "outputs": [
    {
     "name": "stdout",
     "output_type": "stream",
     "text": [
      "False\n",
      "True\n"
     ]
    }
   ],
   "source": [
    "# numpy.allclose(a, b, rtol=1e-05, atol=1e-08, equal_nan=False)\n",
    "# 如果两个数组的形状相同，则Allclose函数根据公差值查找两个数组是否相等或近似相等。\n",
    "np.allclose([1, 2, 3], [3, 4, 5]) # False\n",
    "np.allclose([1, 1], [1, 1]) # True\n",
    "\n",
    "a = np.array([0.25, 0.4, 0.6, 0.32])\n",
    "b = np.array([0.26, 0.3, 0.7, 0.32])\n",
    " \n",
    "tolerance = 0.1           ## Total Difference\n",
    "print(np.allclose(a, b, tolerance))\n",
    "\n",
    " \n",
    "tolerance = 0.5\n",
    "print(np.allclose(a, b, tolerance))\n"
   ]
  },
  {
   "cell_type": "markdown",
   "metadata": {},
   "source": [
    "#### 40.equal\n"
   ]
  },
  {
   "cell_type": "code",
   "execution_count": 197,
   "metadata": {},
   "outputs": [
    {
     "data": {
      "text/plain": [
       "array([False,  True, False])"
      ]
     },
     "execution_count": 197,
     "metadata": {},
     "output_type": "execute_result"
    }
   ],
   "source": [
    "'''\n",
    "numpy.equal(x1, x2, /, out=None, *, \n",
    "            where=True, casting='same_kind', \n",
    "            order='K', dtype=None, subok=True[, signature, extobj]\n",
    "           ) = <ufunc 'equal'>\n",
    "'''\n",
    "# 它比较两个数组的每个元素，如果元素匹配就返回True。\n",
    "np.equal([1, 1, 3], [2, 1, 4]) "
   ]
  },
  {
   "attachments": {},
   "cell_type": "markdown",
   "metadata": {},
   "source": [
    "### 重复的数组元素\n"
   ]
  },
  {
   "cell_type": "markdown",
   "metadata": {},
   "source": [
    "#### 41.repeat\n"
   ]
  },
  {
   "cell_type": "code",
   "execution_count": 201,
   "metadata": {},
   "outputs": [
    {
     "data": {
      "text/html": [
       "<div>\n",
       "<style scoped>\n",
       "    .dataframe tbody tr th:only-of-type {\n",
       "        vertical-align: middle;\n",
       "    }\n",
       "\n",
       "    .dataframe tbody tr th {\n",
       "        vertical-align: top;\n",
       "    }\n",
       "\n",
       "    .dataframe thead th {\n",
       "        text-align: right;\n",
       "    }\n",
       "</style>\n",
       "<table border=\"1\" class=\"dataframe\">\n",
       "  <thead>\n",
       "    <tr style=\"text-align: right;\">\n",
       "      <th></th>\n",
       "      <th>Product</th>\n",
       "      <th>ContainerSales</th>\n",
       "      <th>year</th>\n",
       "    </tr>\n",
       "  </thead>\n",
       "  <tbody>\n",
       "    <tr>\n",
       "      <th>0</th>\n",
       "      <td>Mango</td>\n",
       "      <td>40</td>\n",
       "      <td>2023</td>\n",
       "    </tr>\n",
       "    <tr>\n",
       "      <th>1</th>\n",
       "      <td>Apple</td>\n",
       "      <td>90</td>\n",
       "      <td>2023</td>\n",
       "    </tr>\n",
       "    <tr>\n",
       "      <th>2</th>\n",
       "      <td>Banana</td>\n",
       "      <td>130</td>\n",
       "      <td>2023</td>\n",
       "    </tr>\n",
       "  </tbody>\n",
       "</table>\n",
       "</div>"
      ],
      "text/plain": [
       "  Product  ContainerSales  year\n",
       "0   Mango              40  2023\n",
       "1   Apple              90  2023\n",
       "2  Banana             130  2023"
      ]
     },
     "execution_count": 201,
     "metadata": {},
     "output_type": "execute_result"
    }
   ],
   "source": [
    "# numpy.repeat(a, repeats, axis=None)\n",
    "# 用于重复数组中的元素n次。\n",
    "np.repeat([1, 2, 3], 3)\n",
    "np.repeat([[1, 2], [3, 4]], 2)\n",
    "\n",
    "fruits = pd.DataFrame([\n",
    "  ['Mango',40],\n",
    "  ['Apple',90],\n",
    "  ['Banana',130]\n",
    "],columns=['Product','ContainerSales'])\n",
    "fruits\n",
    "fruits['year'] = np.repeat(2023, fruits.shape[0])\n",
    "fruits"
   ]
  },
  {
   "cell_type": "markdown",
   "metadata": {},
   "source": [
    "#### 42.tile\n"
   ]
  },
  {
   "cell_type": "code",
   "execution_count": 204,
   "metadata": {},
   "outputs": [
    {
     "data": {
      "text/plain": [
       "array([[3, 3, 3],\n",
       "       [3, 3, 3]])"
      ]
     },
     "execution_count": 204,
     "metadata": {},
     "output_type": "execute_result"
    }
   ],
   "source": [
    "# numpy.title(A, reps) 通过重复A，reps次来构造一个数组\n",
    "np.tile('Rong', 5)\n",
    "\n",
    "np.tile(3, (2, 3))"
   ]
  },
  {
   "cell_type": "markdown",
   "metadata": {},
   "source": [
    "### 爱因斯坦求和\n"
   ]
  },
  {
   "cell_type": "markdown",
   "metadata": {},
   "source": [
    "#### 43.einsum\n"
   ]
  },
  {
   "cell_type": "code",
   "execution_count": 211,
   "metadata": {},
   "outputs": [
    {
     "name": "stdout",
     "output_type": "stream",
     "text": [
      "[[1 2 3]\n",
      " [4 5 6]\n",
      " [7 8 9]]\n",
      "[[21 22 23]\n",
      " [24 25 26]\n",
      " [27 28 29]]\n",
      "取a对角线\n",
      " [1 5 9]\n",
      "a的转置\n",
      " [[1 4 7]\n",
      " [2 5 8]\n",
      " [3 6 9]]\n",
      "ab矩阵相乘\n",
      " [[150 156 162]\n",
      " [366 381 396]\n",
      " [582 606 630]]\n",
      "a的迹\n",
      " 15\n"
     ]
    }
   ],
   "source": [
    "'''\n",
    "umpy.einsum(subscripts, *operands, out=None, \n",
    "            dtype=None, order='K', \n",
    "            casting='safe', optimize=False)\n",
    "用于计算数组上的多维和线性代数运算。\n",
    "'''\n",
    "a = np.arange(1,10).reshape(3,3)\n",
    "b = np.arange(21,30).reshape(3,3)\n",
    "print(a)\n",
    "print(b)\n",
    "print('取a对角线\\n', np.einsum('ii->i',a))\n",
    "print('a的转置\\n', np.einsum('ji',a))\n",
    "print('ab矩阵相乘\\n', np.einsum('ij, jk', a, b))  \n",
    "print('a的迹\\n', np.einsum('ii',a))\n"
   ]
  },
  {
   "cell_type": "markdown",
   "metadata": {},
   "source": [
    "### 统计分析\n"
   ]
  },
  {
   "attachments": {},
   "cell_type": "markdown",
   "metadata": {},
   "source": [
    "#### 44.直方图"
   ]
  },
  {
   "cell_type": "code",
   "execution_count": 213,
   "metadata": {},
   "outputs": [
    {
     "data": {
      "text/plain": [
       "(array([2, 0, 1, 0, 1, 0, 1, 0, 2, 1], dtype=int64),\n",
       " array([2. , 2.5, 3. , 3.5, 4. , 4.5, 5. , 5.5, 6. , 6.5, 7. ]))"
      ]
     },
     "execution_count": 213,
     "metadata": {},
     "output_type": "execute_result"
    }
   ],
   "source": [
    "# numpy.histogram(a, bins=10, range=None, normed=None, weights=None, density=None)\n",
    "# 统计分析函数，可计算一组数据的直方图值。\n",
    "np.histogram([[3, 4, 5, 2], [6, 7, 2, 6]])"
   ]
  },
  {
   "cell_type": "markdown",
   "metadata": {},
   "source": [
    "#### 45.百分位数\n"
   ]
  },
  {
   "cell_type": "code",
   "execution_count": 229,
   "metadata": {},
   "outputs": [
    {
     "name": "stdout",
     "output_type": "stream",
     "text": [
      "1.75\n"
     ]
    }
   ],
   "source": [
    "'''\n",
    "numpy.percentile(a, q, axis=None, out=None, \n",
    "                 overwrite_input=False, method='linear', \n",
    "                 keepdims=False, *, \n",
    "                 interpolation=None)[source]\n",
    "沿指定轴计算数据的Q-T-T百分位数\n",
    "a:输入。\n",
    "q:要计算的百分位。\n",
    "overwrite_input:如果为true 则允许输入数组修改中间计算以节省内存。\n",
    "'''\n",
    "# 将一组含有n个值的数据，按数值从小到大排列，将处于p%位置的值称第 p 百分位数。\n",
    "print(np.percentile([1, 2, 3, 5], 25))"
   ]
  },
  {
   "cell_type": "markdown",
   "metadata": {},
   "source": [
    "#### 46.标准偏差\n"
   ]
  },
  {
   "cell_type": "code",
   "execution_count": 232,
   "metadata": {},
   "outputs": [
    {
     "name": "stdout",
     "output_type": "stream",
     "text": [
      "[1.63299316 3.26598632]\n",
      "[1. 2. 3.]\n"
     ]
    }
   ],
   "source": [
    "'''\n",
    "numpy.std(a, axis=None, dtype=None, out=None, \n",
    "          ddof=0, keepdims=<no value>, *, \n",
    "          where=<no value>)\n",
    "'''\n",
    "# std用于计算沿轴的标准偏差\n",
    "a = np.array([[2, 4, 6], [4, 8, 12]])\n",
    "print(np.std(a, axis = 1))\n",
    "print(np.std(a, axis = 0))"
   ]
  },
  {
   "cell_type": "markdown",
   "metadata": {},
   "source": [
    "#### 47.方差\n"
   ]
  },
  {
   "cell_type": "code",
   "execution_count": 234,
   "metadata": {},
   "outputs": [
    {
     "name": "stdout",
     "output_type": "stream",
     "text": [
      "[ 2.66666667 10.66666667]\n",
      "[1. 4. 9.]\n"
     ]
    }
   ],
   "source": [
    "'''\n",
    "numpy.var(a, axis=None, dtype=None, out=None, \n",
    "          ddof=0, keepdims=<no value>, *, \n",
    "          where=<no value>)\n",
    "'''\n",
    "print(np.var(a, axis = 1))\n",
    "print(np.var(a, axis = 0))"
   ]
  },
  {
   "cell_type": "markdown",
   "metadata": {},
   "source": [
    "### 数组打印\n"
   ]
  },
  {
   "cell_type": "markdown",
   "metadata": {},
   "source": [
    "#### 48.显示带有两个十进制值的浮点数\n"
   ]
  },
  {
   "cell_type": "code",
   "execution_count": 240,
   "metadata": {},
   "outputs": [
    {
     "data": {
      "text/plain": [
       "array([12.123, 13.457])"
      ]
     },
     "execution_count": 240,
     "metadata": {},
     "output_type": "execute_result"
    }
   ],
   "source": [
    "'''\n",
    "numpy.set_printoptions(precision=None, threshold=None, edgeitems=None, \n",
    "                       linewidth=None, suppress=None, nanstr=None, infstr=None, \n",
    "                       formatter=None, sign=None, floatmode=None, *,\n",
    "                       legacy=None)\n",
    "'''\n",
    "np.set_printoptions(precision = 3)#保留3位小数点\n",
    "a = np.array([12.1234, 13.4567])\n",
    "a"
   ]
  },
  {
   "cell_type": "markdown",
   "metadata": {},
   "source": [
    "### 保存和加载数据\n"
   ]
  },
  {
   "cell_type": "markdown",
   "metadata": {},
   "source": [
    "#### 49.保存\n"
   ]
  },
  {
   "cell_type": "code",
   "execution_count": 245,
   "metadata": {},
   "outputs": [],
   "source": [
    "'''\n",
    "numpy.savetxt(fname, X, fmt='%.18e', delimiter=' ', \n",
    "              newline='\\n', header='', footer='', \n",
    "              comments='# ', encoding=None)\n",
    "'''\n",
    "arr = np.linspace(10, 100, 49).reshape(7, 7)\n",
    "np.savetxt('array.txt', arr)"
   ]
  },
  {
   "cell_type": "markdown",
   "metadata": {},
   "source": [
    "#### 50.加载"
   ]
  },
  {
   "cell_type": "code",
   "execution_count": 247,
   "metadata": {},
   "outputs": [
    {
     "data": {
      "text/plain": [
       "array([[ 10.   ,  11.875,  13.75 ,  15.625,  17.5  ,  19.375,  21.25 ],\n",
       "       [ 23.125,  25.   ,  26.875,  28.75 ,  30.625,  32.5  ,  34.375],\n",
       "       [ 36.25 ,  38.125,  40.   ,  41.875,  43.75 ,  45.625,  47.5  ],\n",
       "       [ 49.375,  51.25 ,  53.125,  55.   ,  56.875,  58.75 ,  60.625],\n",
       "       [ 62.5  ,  64.375,  66.25 ,  68.125,  70.   ,  71.875,  73.75 ],\n",
       "       [ 75.625,  77.5  ,  79.375,  81.25 ,  83.125,  85.   ,  86.875],\n",
       "       [ 88.75 ,  90.625,  92.5  ,  94.375,  96.25 ,  98.125, 100.   ]])"
      ]
     },
     "execution_count": 247,
     "metadata": {},
     "output_type": "execute_result"
    }
   ],
   "source": [
    "'''\n",
    "numpy.loadtxt(fname, dtype=<class 'float'>, comments='#', delimiter=None,\n",
    "              converters=None, skiprows=0, usecols=None, unpack=False, \n",
    "              ndmin=0, encoding='bytes', max_rows=None, *, \n",
    "              quotechar=None, like=None)\n",
    "'''\n",
    "np.loadtxt('array.txt')"
   ]
  }
 ],
 "metadata": {
  "kernelspec": {
   "display_name": "pytorch-gpu",
   "language": "python",
   "name": "pytorch-gpu"
  },
  "language_info": {
   "codemirror_mode": {
    "name": "ipython",
    "version": 3
   },
   "file_extension": ".py",
   "mimetype": "text/x-python",
   "name": "python",
   "nbconvert_exporter": "python",
   "pygments_lexer": "ipython3",
   "version": "3.9.16"
  },
  "orig_nbformat": 4
 },
 "nbformat": 4,
 "nbformat_minor": 2
}
